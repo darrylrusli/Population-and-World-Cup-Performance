{
 "cells": [
  {
   "cell_type": "markdown",
   "id": "19227478",
   "metadata": {},
   "source": [
    "# *Population and World Cup Performance*"
   ]
  },
  {
   "cell_type": "markdown",
   "id": "5a1dbe50",
   "metadata": {},
   "source": [
    "# 1. List of Teams in 2018 World Cup"
   ]
  },
  {
   "cell_type": "markdown",
   "id": "8abe6fa4",
   "metadata": {},
   "source": [
    "## 1. Importing Libraries"
   ]
  },
  {
   "cell_type": "code",
   "execution_count": 1,
   "id": "3821bcd0",
   "metadata": {},
   "outputs": [],
   "source": [
    "import json\n",
    "import pandas as pd\n",
    "import csv\n",
    "import numpy as np\n",
    "import seaborn as sns\n",
    "import matplotlib.pyplot as plt\n",
    "\n",
    "\n",
    "%matplotlib inline"
   ]
  },
  {
   "cell_type": "markdown",
   "id": "30289caf",
   "metadata": {},
   "source": [
    "## 2 Getting the data"
   ]
  },
  {
   "cell_type": "markdown",
   "id": "089d9855",
   "metadata": {},
   "source": [
    "Loading the **world cup data**"
   ]
  },
  {
   "cell_type": "code",
   "execution_count": 2,
   "id": "75a2edf3",
   "metadata": {},
   "outputs": [],
   "source": [
    "with open(\"dataset/worldcup.json\", encoding=\"utf8\") as f:\n",
    "    world_cup_data = json.load(f)\n",
    "    \n",
    "# Check that the overall data\n",
    "\n",
    "assert type(world_cup_data) == dict\n",
    "\n",
    "assert list(world_cup_data.keys()) == ['name', 'rounds']"
   ]
  },
  {
   "cell_type": "markdown",
   "id": "4b4172b5",
   "metadata": {},
   "source": [
    "Loading the **population data**"
   ]
  },
  {
   "cell_type": "code",
   "execution_count": 3,
   "id": "1d9ea590",
   "metadata": {},
   "outputs": [],
   "source": [
    "with open(\"dataset/population_csv.csv\") as f:\n",
    "    reader = csv.DictReader(f)\n",
    "    population_data = list(reader)\n",
    "\n",
    "# Check if the type population data is a list\n",
    "assert type(population_data) == list\n",
    "\n",
    "# Check if the type of first entry of population data is a dict\n",
    "assert type(population_data[0]) == dict"
   ]
  },
  {
   "cell_type": "markdown",
   "id": "1e56152e",
   "metadata": {},
   "source": [
    "## 3. Extracting Rounds"
   ]
  },
  {
   "cell_type": "code",
   "execution_count": 4,
   "id": "b0cbf091",
   "metadata": {
    "scrolled": false
   },
   "outputs": [
    {
     "name": "stdout",
     "output_type": "stream",
     "text": [
      "type(rounds):  <class 'list'>\n",
      "len(rounds):  20\n",
      "len(rounds[3]):  2\n",
      "round[3]\n"
     ]
    },
    {
     "data": {
      "text/plain": [
       "{'name': 'Matchday 4',\n",
       " 'matches': [{'num': 9,\n",
       "   'date': '2018-06-17',\n",
       "   'time': '21:00',\n",
       "   'team1': {'name': 'Brazil', 'code': 'BRA'},\n",
       "   'team2': {'name': 'Switzerland', 'code': 'SUI'},\n",
       "   'score1': 1,\n",
       "   'score2': 1,\n",
       "   'score1i': 1,\n",
       "   'score2i': 0,\n",
       "   'goals1': [{'name': 'Coutinho', 'minute': 20, 'score1': 1, 'score2': 0}],\n",
       "   'goals2': [{'name': 'Zuber', 'minute': 50, 'score1': 1, 'score2': 1}],\n",
       "   'group': 'Group E',\n",
       "   'stadium': {'key': 'rostov', 'name': 'Rostov Arena'},\n",
       "   'city': 'Rostov-on-Don',\n",
       "   'timezone': 'UTC+3'},\n",
       "  {'num': 10,\n",
       "   'date': '2018-06-17',\n",
       "   'time': '16:00',\n",
       "   'team1': {'name': 'Costa Rica', 'code': 'CRC'},\n",
       "   'team2': {'name': 'Serbia', 'code': 'SRB'},\n",
       "   'score1': 0,\n",
       "   'score2': 1,\n",
       "   'score1i': 0,\n",
       "   'score2i': 0,\n",
       "   'goals1': [],\n",
       "   'goals2': [{'name': 'Kolarov', 'minute': 56, 'score1': 0, 'score2': 1}],\n",
       "   'group': 'Group E',\n",
       "   'stadium': {'key': 'samara', 'name': 'Samara Arena'},\n",
       "   'city': 'Samara',\n",
       "   'timezone': 'UTC+4'},\n",
       "  {'num': 11,\n",
       "   'date': '2018-06-17',\n",
       "   'time': '18:00',\n",
       "   'team1': {'name': 'Germany', 'code': 'GER'},\n",
       "   'team2': {'name': 'Mexico', 'code': 'MEX'},\n",
       "   'score1': 0,\n",
       "   'score2': 1,\n",
       "   'score1i': 0,\n",
       "   'score2i': 1,\n",
       "   'goals1': [],\n",
       "   'goals2': [{'name': 'Lozano', 'minute': 35, 'score1': 0, 'score2': 1}],\n",
       "   'group': 'Group F',\n",
       "   'stadium': {'key': 'luzhniki', 'name': 'Luzhniki Stadium'},\n",
       "   'city': 'Moscow',\n",
       "   'timezone': 'UTC+3'}]}"
      ]
     },
     "execution_count": 4,
     "metadata": {},
     "output_type": "execute_result"
    }
   ],
   "source": [
    "rounds = world_cup_data['rounds']\n",
    "\n",
    "print(\"type(rounds): \", type(rounds))\n",
    "print(\"len(rounds): \", len(rounds))\n",
    "print(\"len(rounds[3]): \", len(rounds[3]))\n",
    "print(\"round[3]\")\n",
    "rounds[3]"
   ]
  },
  {
   "cell_type": "code",
   "execution_count": 5,
   "id": "e53f5c5c",
   "metadata": {},
   "outputs": [
    {
     "data": {
      "text/plain": [
       "{'num': 1,\n",
       " 'date': '2018-06-14',\n",
       " 'time': '18:00',\n",
       " 'team1': {'name': 'Russia', 'code': 'RUS'},\n",
       " 'team2': {'name': 'Saudi Arabia', 'code': 'KSA'},\n",
       " 'score1': 5,\n",
       " 'score2': 0,\n",
       " 'score1i': 2,\n",
       " 'score2i': 0,\n",
       " 'goals1': [{'name': 'Gazinsky', 'minute': 12, 'score1': 1, 'score2': 0},\n",
       "  {'name': 'Cheryshev', 'minute': 43, 'score1': 2, 'score2': 0},\n",
       "  {'name': 'Dzyuba', 'minute': 71, 'score1': 3, 'score2': 0},\n",
       "  {'name': 'Cheryshev', 'minute': 90, 'offset': 1, 'score1': 4, 'score2': 0},\n",
       "  {'name': 'Golovin', 'minute': 90, 'offset': 4, 'score1': 5, 'score2': 0}],\n",
       " 'goals2': [],\n",
       " 'group': 'Group A',\n",
       " 'stadium': {'key': 'luzhniki', 'name': 'Luzhniki Stadium'},\n",
       " 'city': 'Moscow',\n",
       " 'timezone': 'UTC+3'}"
      ]
     },
     "execution_count": 5,
     "metadata": {},
     "output_type": "execute_result"
    }
   ],
   "source": [
    "# Extract the matches from each round. Once extracted, append the match one by one.\n",
    "\n",
    "matches = []\n",
    "\n",
    "for index, round_ in enumerate(rounds):\n",
    "    # Extract the information about the match from each round\n",
    "    round_matches = [match for match in round_['matches']]\n",
    "    \n",
    "    \n",
    "    # Add the round matches to the matches\n",
    "    for match in round_matches:\n",
    "        matches.append(match)\n",
    "    \n",
    "matches[0]   \n"
   ]
  },
  {
   "cell_type": "markdown",
   "id": "980b1d2f",
   "metadata": {},
   "source": [
    "There should be 64 matches.\n",
    "\n",
    "If the length is 20, that means you have a list of lists instead of list of dictionaries"
   ]
  },
  {
   "cell_type": "code",
   "execution_count": 6,
   "id": "1e095db6",
   "metadata": {
    "scrolled": false
   },
   "outputs": [],
   "source": [
    "# Ensure that the length of matches is 64\n",
    "assert len(matches) == 64\n",
    "\n",
    "# Ensure that the type of matches is dictionary\n",
    "assert type(matches[0]) == dict"
   ]
  },
  {
   "cell_type": "markdown",
   "id": "13c8101c",
   "metadata": {},
   "source": [
    "## 4. Extracting Teams"
   ]
  },
  {
   "cell_type": "code",
   "execution_count": 7,
   "id": "f4713e10",
   "metadata": {},
   "outputs": [
    {
     "name": "stdout",
     "output_type": "stream",
     "text": [
      "['Argentina', 'Australia', 'Belgium', 'Brazil', 'Colombia', 'Costa Rica', 'Croatia', 'Denmark', 'Egypt', 'England', 'France', 'Germany', 'Iceland', 'Iran', 'Japan', 'Mexico', 'Morocco', 'Nigeria', 'Panama', 'Peru', 'Poland', 'Portugal', 'Russia', 'Saudi Arabia', 'Senegal', 'Serbia', 'South Korea', 'Spain', 'Sweden', 'Switzerland', 'Tunisia', 'Uruguay']\n"
     ]
    }
   ],
   "source": [
    "# Initialise the team set\n",
    "teams_list = []\n",
    "\n",
    "# Appending the names of team 1 and team 2 by looping through match item\n",
    "for match in matches:\n",
    "    teams_list.append(match[\"team1\"]['name'])\n",
    "    teams_list.append(match[\"team2\"]['name'])\n",
    "\n",
    "# Get the unique value of team name\n",
    "teams_set = set(teams_list)\n",
    "\n",
    "# Sort the list of the team name alphabetically\n",
    "teams = sorted(list(teams_set))\n",
    "print(teams)"
   ]
  },
  {
   "cell_type": "markdown",
   "id": "d23aea18",
   "metadata": {},
   "source": [
    "Make sure the 'assert's pass before moving on to the next step"
   ]
  },
  {
   "cell_type": "code",
   "execution_count": 8,
   "id": "bf7082ea",
   "metadata": {},
   "outputs": [],
   "source": [
    "# Teams should be a list, not a set\n",
    "assert type(teams) == list\n",
    "\n",
    "# 43 teams competed in the 2018 world cup\n",
    "assert len(teams) == 32\n",
    "\n",
    "# Ensure each element of teams is a string\n",
    "# (the name is not a dictionary)\n",
    "\n",
    "assert type(teams[0]) == str"
   ]
  },
  {
   "cell_type": "markdown",
   "id": "0e0c4c86",
   "metadata": {},
   "source": [
    "# 2. Associating Countries with 2018 World Cup Performance"
   ]
  },
  {
   "cell_type": "code",
   "execution_count": 9,
   "id": "dbf7c4b6",
   "metadata": {
    "scrolled": false
   },
   "outputs": [],
   "source": [
    "combined_data = {}\n",
    "\n",
    "\n",
    "population_data_2018 = []\n",
    "for pop in population_data:\n",
    "    if pop['Year'] == '2018':\n",
    "        population_data_2018.append(pop)\n",
    "\n",
    "for team in teams:\n",
    "    combined_data[team] = {\"wins\": 0}\n",
    "    "
   ]
  },
  {
   "cell_type": "markdown",
   "id": "93a80e16",
   "metadata": {},
   "source": [
    "Check if the configuration is correct by using assert statement"
   ]
  },
  {
   "cell_type": "code",
   "execution_count": 10,
   "id": "66c41fec",
   "metadata": {},
   "outputs": [],
   "source": [
    "# Combined_data should be a dictionary\n",
    "assert type(combined_data) == dict\n",
    "\n",
    "# The Keys should be a strings\n",
    "assert type(list(combined_data.keys())[0]) == str\n",
    "\n",
    "# the values should be dictionaries\n",
    "assert combined_data['Japan'] == {\"wins\":0}"
   ]
  },
  {
   "cell_type": "code",
   "execution_count": 11,
   "id": "a878549e",
   "metadata": {},
   "outputs": [],
   "source": [
    "def find_winner(match):\n",
    "    \"\"\"\n",
    "    Given a dictionary containing information about a match,\n",
    "    return the name of the winner (or None in the case of a tie)\n",
    "    \"\"\"\n",
    "    winner = None\n",
    "    \n",
    "    if match['score1'] > match['score2']:\n",
    "        winner = match['team1'][\"name\"]\n",
    "    elif match['score1'] < match['score2']:\n",
    "        winner = match['team2'][\"name\"]\n",
    "    return winner   "
   ]
  },
  {
   "cell_type": "markdown",
   "id": "481fe9a6",
   "metadata": {},
   "source": [
    "Use the assert function to see the function works properly"
   ]
  },
  {
   "cell_type": "code",
   "execution_count": 12,
   "id": "e4ba5ba3",
   "metadata": {},
   "outputs": [],
   "source": [
    "assert find_winner(matches[0]) == \"Russia\"\n",
    "assert find_winner(matches[1]) == \"Uruguay\"\n",
    "assert find_winner(matches[2]) == None"
   ]
  },
  {
   "cell_type": "code",
   "execution_count": 13,
   "id": "02a32f50",
   "metadata": {},
   "outputs": [
    {
     "name": "stdout",
     "output_type": "stream",
     "text": [
      "{'Argentina': {'wins': 1}, 'Australia': {'wins': 0}, 'Belgium': {'wins': 6}, 'Brazil': {'wins': 3}, 'Colombia': {'wins': 2}, 'Costa Rica': {'wins': 0}, 'Croatia': {'wins': 3}, 'Denmark': {'wins': 1}, 'Egypt': {'wins': 0}, 'England': {'wins': 3}, 'France': {'wins': 6}, 'Germany': {'wins': 1}, 'Iceland': {'wins': 0}, 'Iran': {'wins': 1}, 'Japan': {'wins': 1}, 'Mexico': {'wins': 2}, 'Morocco': {'wins': 0}, 'Nigeria': {'wins': 1}, 'Panama': {'wins': 0}, 'Peru': {'wins': 1}, 'Poland': {'wins': 1}, 'Portugal': {'wins': 1}, 'Russia': {'wins': 2}, 'Saudi Arabia': {'wins': 1}, 'Senegal': {'wins': 1}, 'Serbia': {'wins': 1}, 'South Korea': {'wins': 1}, 'Spain': {'wins': 1}, 'Sweden': {'wins': 3}, 'Switzerland': {'wins': 1}, 'Tunisia': {'wins': 1}, 'Uruguay': {'wins': 4}}\n"
     ]
    }
   ],
   "source": [
    "for match in matches:\n",
    "    # get the name of the winner\n",
    "    winner = find_winner(match)\n",
    "    # Only proceed to the next step if there was\n",
    "    # a winner\n",
    "    if winner:\n",
    "        # Add 1 to the associated coubt of wins\n",
    "        combined_data[winner.lower().title()]['wins'] += 1\n",
    "\n",
    "print(combined_data)\n",
    "        "
   ]
  },
  {
   "cell_type": "markdown",
   "id": "30925d91",
   "metadata": {},
   "source": [
    "### Analysis of Wins"
   ]
  },
  {
   "cell_type": "code",
   "execution_count": 14,
   "id": "6521e722",
   "metadata": {},
   "outputs": [
    {
     "name": "stdout",
     "output_type": "stream",
     "text": [
      "Mean number of wins:  1.5625\n",
      "Median number of wins:  1.0\n",
      "Standard deviation of number of wins:  1.5194057226429023\n"
     ]
    }
   ],
   "source": [
    "wins = [val[\"wins\"] for val in combined_data.values()]\n",
    "\n",
    "print(\"Mean number of wins: \", np.mean(wins))\n",
    "print(\"Median number of wins: \", np.median(wins))\n",
    "print(\"Standard deviation of number of wins: \", np.std(wins))"
   ]
  },
  {
   "cell_type": "code",
   "execution_count": 15,
   "id": "7eed275f",
   "metadata": {
    "scrolled": false
   },
   "outputs": [
    {
     "data": {
      "image/png": "[encoded data removed]",
      "text/plain": [
       "<Figure size 1200x700 with 2 Axes>"
      ]
     },
     "metadata": {},
     "output_type": "display_data"
    }
   ],
   "source": [
    "# Set up figure and axes\n",
    "fig, (ax1,ax2) = plt.subplots(ncols= 2, figsize = (12, 7))\n",
    "fig.set_tight_layout(True)\n",
    "\n",
    "# Histogram of Wins and Frequencues\n",
    "ax1.hist(x = wins, bins = range(8), align = \"left\", color = \"green\")\n",
    "ax1.set_xticks(range(7))\n",
    "ax1.set_xlabel(\"Wins in 2018 World Cup\")\n",
    "ax1.set_ylabel(\"Frequency\")\n",
    "ax1.set_title(\"Distribution of Wins\")\n",
    "\n",
    "# Horizontal Bar Graph of Wins by Country\n",
    "ax2.barh(teams[::-1], wins[::-1], color = \"green\")\n",
    "ax2.set_xlabel(\"Wins in 2018 World Cup\")\n",
    "ax2.set_title(\"Wins by Country\");"
   ]
  },
  {
   "cell_type": "markdown",
   "id": "757345c0",
   "metadata": {},
   "source": [
    "Analysis: based on the insights from above, Belgium and France won on the finals. Additionally, they have won 6 six times"
   ]
  },
  {
   "cell_type": "markdown",
   "id": "490b9935",
   "metadata": {},
   "source": [
    "# 3. Associating Countries with 2018 Population"
   ]
  },
  {
   "cell_type": "code",
   "execution_count": 16,
   "id": "d0315d1b",
   "metadata": {},
   "outputs": [
    {
     "data": {
      "text/plain": [
       "15409"
      ]
     },
     "execution_count": 16,
     "metadata": {},
     "output_type": "execute_result"
    }
   ],
   "source": [
    "# Length of the population data\n",
    "len(population_data)"
   ]
  },
  {
   "cell_type": "markdown",
   "id": "43ea9af0",
   "metadata": {},
   "source": [
    "Choosing the 10 samples of the 'population data'"
   ]
  },
  {
   "cell_type": "code",
   "execution_count": 17,
   "id": "d2d9eceb",
   "metadata": {},
   "outputs": [
    {
     "name": "stdout",
     "output_type": "stream",
     "text": [
      "[{'Country Name': 'Greenland', 'Country Code': 'GRL', 'Year': '1980', 'Value': '50200'}\n",
      " {'Country Name': 'High income', 'Country Code': 'HIC', 'Year': '1994', 'Value': '1034461319'}\n",
      " {'Country Name': 'Congo, Rep.', 'Country Code': 'COG', 'Year': '1981', 'Value': '1830632'}\n",
      " {'Country Name': 'St. Lucia', 'Country Code': 'LCA', 'Year': '2004', 'Value': '161816'}\n",
      " {'Country Name': 'China', 'Country Code': 'CHN', 'Year': '2018', 'Value': '1392730000'}\n",
      " {'Country Name': 'Poland', 'Country Code': 'POL', 'Year': '2016', 'Value': '37970087'}\n",
      " {'Country Name': 'North Macedonia', 'Country Code': 'MKD', 'Year': '1985', 'Value': '1981534'}\n",
      " {'Country Name': 'Cyprus', 'Country Code': 'CYP', 'Year': '1971', 'Value': '620859'}\n",
      " {'Country Name': 'Equatorial Guinea', 'Country Code': 'GNQ', 'Year': '1971', 'Value': '298846'}\n",
      " {'Country Name': 'Euro area', 'Country Code': 'EMU', 'Year': '2013', 'Value': '337302113'}]\n"
     ]
    }
   ],
   "source": [
    "np.random.seed(42)\n",
    "population_record_samples = np.random.choice(population_data, size = 10)\n",
    "print(population_record_samples);"
   ]
  },
  {
   "cell_type": "code",
   "execution_count": 18,
   "id": "51113a8d",
   "metadata": {},
   "outputs": [
    {
     "data": {
      "text/plain": [
       "27"
      ]
     },
     "execution_count": 18,
     "metadata": {},
     "output_type": "execute_result"
    }
   ],
   "source": [
    "population_data_filtered = []\n",
    "_2018_count = 0\n",
    "for record in population_data:\n",
    "    # Add record to population_data_filtered if relevant\n",
    "    if record['Year'] == \"2018\" and record['Country Name'] in teams_list:\n",
    "        population_data_filtered.append(record)\n",
    "\n",
    "len(population_data_filtered)"
   ]
  },
  {
   "cell_type": "code",
   "execution_count": 19,
   "id": "575dc346",
   "metadata": {
    "scrolled": true
   },
   "outputs": [
    {
     "data": {
      "text/plain": [
       "[{'Country Name': 'Argentina',\n",
       "  'Country Code': 'ARG',\n",
       "  'Year': '2018',\n",
       "  'Value': '44494502'},\n",
       " {'Country Name': 'Australia',\n",
       "  'Country Code': 'AUS',\n",
       "  'Year': '2018',\n",
       "  'Value': '24982688'},\n",
       " {'Country Name': 'Belgium',\n",
       "  'Country Code': 'BEL',\n",
       "  'Year': '2018',\n",
       "  'Value': '11433256'},\n",
       " {'Country Name': 'Brazil',\n",
       "  'Country Code': 'BRA',\n",
       "  'Year': '2018',\n",
       "  'Value': '209469333'},\n",
       " {'Country Name': 'Colombia',\n",
       "  'Country Code': 'COL',\n",
       "  'Year': '2018',\n",
       "  'Value': '49648685'},\n",
       " {'Country Name': 'Costa Rica',\n",
       "  'Country Code': 'CRI',\n",
       "  'Year': '2018',\n",
       "  'Value': '4999441'},\n",
       " {'Country Name': 'Croatia',\n",
       "  'Country Code': 'HRV',\n",
       "  'Year': '2018',\n",
       "  'Value': '4087843'},\n",
       " {'Country Name': 'Denmark',\n",
       "  'Country Code': 'DNK',\n",
       "  'Year': '2018',\n",
       "  'Value': '5793636'},\n",
       " {'Country Name': 'France',\n",
       "  'Country Code': 'FRA',\n",
       "  'Year': '2018',\n",
       "  'Value': '66977107'},\n",
       " {'Country Name': 'Germany',\n",
       "  'Country Code': 'DEU',\n",
       "  'Year': '2018',\n",
       "  'Value': '82905782'},\n",
       " {'Country Name': 'Iceland',\n",
       "  'Country Code': 'ISL',\n",
       "  'Year': '2018',\n",
       "  'Value': '352721'},\n",
       " {'Country Name': 'Japan',\n",
       "  'Country Code': 'JPN',\n",
       "  'Year': '2018',\n",
       "  'Value': '126529100'},\n",
       " {'Country Name': 'Mexico',\n",
       "  'Country Code': 'MEX',\n",
       "  'Year': '2018',\n",
       "  'Value': '126190788'},\n",
       " {'Country Name': 'Morocco',\n",
       "  'Country Code': 'MAR',\n",
       "  'Year': '2018',\n",
       "  'Value': '36029138'},\n",
       " {'Country Name': 'Nigeria',\n",
       "  'Country Code': 'NGA',\n",
       "  'Year': '2018',\n",
       "  'Value': '195874740'},\n",
       " {'Country Name': 'Panama',\n",
       "  'Country Code': 'PAN',\n",
       "  'Year': '2018',\n",
       "  'Value': '4176873'},\n",
       " {'Country Name': 'Peru',\n",
       "  'Country Code': 'PER',\n",
       "  'Year': '2018',\n",
       "  'Value': '31989256'},\n",
       " {'Country Name': 'Poland',\n",
       "  'Country Code': 'POL',\n",
       "  'Year': '2018',\n",
       "  'Value': '37974750'},\n",
       " {'Country Name': 'Portugal',\n",
       "  'Country Code': 'PRT',\n",
       "  'Year': '2018',\n",
       "  'Value': '10283822'},\n",
       " {'Country Name': 'Saudi Arabia',\n",
       "  'Country Code': 'SAU',\n",
       "  'Year': '2018',\n",
       "  'Value': '33699947'},\n",
       " {'Country Name': 'Senegal',\n",
       "  'Country Code': 'SEN',\n",
       "  'Year': '2018',\n",
       "  'Value': '15854360'},\n",
       " {'Country Name': 'Serbia',\n",
       "  'Country Code': 'SRB',\n",
       "  'Year': '2018',\n",
       "  'Value': '6982604'},\n",
       " {'Country Name': 'Spain',\n",
       "  'Country Code': 'ESP',\n",
       "  'Year': '2018',\n",
       "  'Value': '46796540'},\n",
       " {'Country Name': 'Sweden',\n",
       "  'Country Code': 'SWE',\n",
       "  'Year': '2018',\n",
       "  'Value': '10175214'},\n",
       " {'Country Name': 'Switzerland',\n",
       "  'Country Code': 'CHE',\n",
       "  'Year': '2018',\n",
       "  'Value': '8513227'},\n",
       " {'Country Name': 'Tunisia',\n",
       "  'Country Code': 'TUN',\n",
       "  'Year': '2018',\n",
       "  'Value': '11565204'},\n",
       " {'Country Name': 'Uruguay',\n",
       "  'Country Code': 'URY',\n",
       "  'Year': '2018',\n",
       "  'Value': '3449299'}]"
      ]
     },
     "execution_count": 19,
     "metadata": {},
     "output_type": "execute_result"
    }
   ],
   "source": [
    "population_data_filtered"
   ]
  },
  {
   "cell_type": "markdown",
   "id": "feeb4a09",
   "metadata": {},
   "source": [
    "Double check the population data samples again, especially the third one:"
   ]
  },
  {
   "cell_type": "code",
   "execution_count": 20,
   "id": "acb87ae2",
   "metadata": {},
   "outputs": [
    {
     "data": {
      "text/plain": [
       "{'Country Name': 'Congo, Rep.',\n",
       " 'Country Code': 'COG',\n",
       " 'Year': '1981',\n",
       " 'Value': '1830632'}"
      ]
     },
     "execution_count": 20,
     "metadata": {},
     "output_type": "execute_result"
    }
   ],
   "source": [
    "population_record_samples[2]"
   ]
  },
  {
   "cell_type": "code",
   "execution_count": 21,
   "id": "90ebe0a0",
   "metadata": {},
   "outputs": [
    {
     "data": {
      "text/plain": [
       "'Iran'"
      ]
     },
     "execution_count": 21,
     "metadata": {},
     "output_type": "execute_result"
    }
   ],
   "source": [
    "teams[13]"
   ]
  },
  {
   "cell_type": "markdown",
   "id": "ddb56cbd",
   "metadata": {},
   "source": [
    "Normalise the locations in population data:"
   ]
  },
  {
   "cell_type": "code",
   "execution_count": 22,
   "id": "b7fe2d36",
   "metadata": {},
   "outputs": [
    {
     "name": "stdout",
     "output_type": "stream",
     "text": [
      "Russia\n",
      "Argentina\n",
      "South Korea\n"
     ]
    }
   ],
   "source": [
    "def normalize_location(country_name):\n",
    "    \n",
    "    \"\"\"\n",
    "    Given a country name, return the name that the\n",
    "    country uses when playing in the FIFA World Cup\n",
    "    \"\"\"\n",
    "    \n",
    "    name_sub_dict = {\n",
    "        \"Russian Federation\": \"Russia\",\n",
    "        \"Egypt, Arab Rep.\": \"Egypt\",\n",
    "        \"Iran, Islamic Rep.\": \"Iran\",\n",
    "        \"Korea, Rep.\": \"South Korea\",\n",
    "        \"United Kingdom\": \"England\"\n",
    "    }\n",
    "    \n",
    "    # The .get method return the corresponding value from\n",
    "    # the dict if present, otherwise returns country_name\n",
    "    return name_sub_dict.get(country_name, country_name)\n",
    "\n",
    "print(normalize_location(\"Russian Federation\"))\n",
    "print(normalize_location(\"Argentina\"))\n",
    "print(normalize_location(\"Korea, Rep.\"))"
   ]
  },
  {
   "cell_type": "code",
   "execution_count": 23,
   "id": "96ac6fdc",
   "metadata": {
    "scrolled": true
   },
   "outputs": [
    {
     "data": {
      "text/plain": [
       "32"
      ]
     },
     "execution_count": 23,
     "metadata": {},
     "output_type": "execute_result"
    }
   ],
   "source": [
    "# Replace None with appropriate code\n",
    "\n",
    "population_data_filtered = []\n",
    "\n",
    "for record in population_data:\n",
    "    # Get normalized country name\n",
    "    country = normalize_location(record[\"Country Name\"])\n",
    "    record[\"Country Name\"] = country\n",
    "    # Add record to population_data_filtered if relevant\n",
    "    if record[\"Year\"] == \"2018\" and record[\"Country Name\"] in teams_list:\n",
    "        # Replace the country name in the record\n",
    "        record[\"Country Name\"] = country\n",
    "        # Append to list\n",
    "        population_data_filtered.append(record)\n",
    "\n",
    "len(population_data_filtered) # 32"
   ]
  },
  {
   "cell_type": "code",
   "execution_count": 24,
   "id": "f2d47dce",
   "metadata": {},
   "outputs": [
    {
     "data": {
      "text/plain": [
       "{'Argentina': {'wins': 1, 'population': 44494502},\n",
       " 'Australia': {'wins': 0, 'population': 24982688},\n",
       " 'Belgium': {'wins': 6, 'population': 11433256},\n",
       " 'Brazil': {'wins': 3, 'population': 209469333},\n",
       " 'Colombia': {'wins': 2, 'population': 49648685},\n",
       " 'Costa Rica': {'wins': 0, 'population': 4999441},\n",
       " 'Croatia': {'wins': 3, 'population': 4087843},\n",
       " 'Denmark': {'wins': 1, 'population': 5793636},\n",
       " 'Egypt': {'wins': 0, 'population': 98423595},\n",
       " 'England': {'wins': 3, 'population': 66460344},\n",
       " 'France': {'wins': 6, 'population': 66977107},\n",
       " 'Germany': {'wins': 1, 'population': 82905782},\n",
       " 'Iceland': {'wins': 0, 'population': 352721},\n",
       " 'Iran': {'wins': 1, 'population': 81800269},\n",
       " 'Japan': {'wins': 1, 'population': 126529100},\n",
       " 'Mexico': {'wins': 2, 'population': 126190788},\n",
       " 'Morocco': {'wins': 0, 'population': 36029138},\n",
       " 'Nigeria': {'wins': 1, 'population': 195874740},\n",
       " 'Panama': {'wins': 0, 'population': 4176873},\n",
       " 'Peru': {'wins': 1, 'population': 31989256},\n",
       " 'Poland': {'wins': 1, 'population': 37974750},\n",
       " 'Portugal': {'wins': 1, 'population': 10283822},\n",
       " 'Russia': {'wins': 2, 'population': 144478050},\n",
       " 'Saudi Arabia': {'wins': 1, 'population': 33699947},\n",
       " 'Senegal': {'wins': 1, 'population': 15854360},\n",
       " 'Serbia': {'wins': 1, 'population': 6982604},\n",
       " 'South Korea': {'wins': 1, 'population': 51606633},\n",
       " 'Spain': {'wins': 1, 'population': 46796540},\n",
       " 'Sweden': {'wins': 3, 'population': 10175214},\n",
       " 'Switzerland': {'wins': 1, 'population': 8513227},\n",
       " 'Tunisia': {'wins': 1, 'population': 11565204},\n",
       " 'Uruguay': {'wins': 4, 'population': 3449299}}"
      ]
     },
     "execution_count": 24,
     "metadata": {},
     "output_type": "execute_result"
    }
   ],
   "source": [
    "# Replace None with appropriate code\n",
    "for record in population_data_filtered:\n",
    "    # Extract the country name from the record\n",
    "    country = record[\"Country Name\"]\n",
    "    # Extract the population value from the record\n",
    "    population = int(record[\"Value\"])\n",
    "    # Add this information to combined_data\n",
    "    combined_data[country][\"population\"] = population\n",
    "\n",
    "# Look combined_data\n",
    "combined_data"
   ]
  },
  {
   "cell_type": "markdown",
   "id": "06357c6b",
   "metadata": {},
   "source": [
    "Check that they types are correct with these assert statements"
   ]
  },
  {
   "cell_type": "code",
   "execution_count": 25,
   "id": "a0d70332",
   "metadata": {},
   "outputs": [],
   "source": [
    "assert type(combined_data[\"Uruguay\"]) == dict\n",
    "assert type(combined_data[\"Uruguay\"][\"population\"]) == int"
   ]
  },
  {
   "cell_type": "code",
   "execution_count": 26,
   "id": "8414cab8",
   "metadata": {},
   "outputs": [
    {
     "data": {
      "text/plain": [
       "{'Argentina': {'wins': 1, 'population': 44494502},\n",
       " 'Australia': {'wins': 0, 'population': 24982688},\n",
       " 'Belgium': {'wins': 6, 'population': 11433256},\n",
       " 'Brazil': {'wins': 3, 'population': 209469333},\n",
       " 'Colombia': {'wins': 2, 'population': 49648685},\n",
       " 'Costa Rica': {'wins': 0, 'population': 4999441},\n",
       " 'Croatia': {'wins': 3, 'population': 4087843},\n",
       " 'Denmark': {'wins': 1, 'population': 5793636},\n",
       " 'Egypt': {'wins': 0, 'population': 98423595},\n",
       " 'England': {'wins': 3, 'population': 66460344},\n",
       " 'France': {'wins': 6, 'population': 66977107},\n",
       " 'Germany': {'wins': 1, 'population': 82905782},\n",
       " 'Iceland': {'wins': 0, 'population': 352721},\n",
       " 'Iran': {'wins': 1, 'population': 81800269},\n",
       " 'Japan': {'wins': 1, 'population': 126529100},\n",
       " 'Mexico': {'wins': 2, 'population': 126190788},\n",
       " 'Morocco': {'wins': 0, 'population': 36029138},\n",
       " 'Nigeria': {'wins': 1, 'population': 195874740},\n",
       " 'Panama': {'wins': 0, 'population': 4176873},\n",
       " 'Peru': {'wins': 1, 'population': 31989256},\n",
       " 'Poland': {'wins': 1, 'population': 37974750},\n",
       " 'Portugal': {'wins': 1, 'population': 10283822},\n",
       " 'Russia': {'wins': 2, 'population': 144478050},\n",
       " 'Saudi Arabia': {'wins': 1, 'population': 33699947},\n",
       " 'Senegal': {'wins': 1, 'population': 15854360},\n",
       " 'Serbia': {'wins': 1, 'population': 6982604},\n",
       " 'South Korea': {'wins': 1, 'population': 51606633},\n",
       " 'Spain': {'wins': 1, 'population': 46796540},\n",
       " 'Sweden': {'wins': 3, 'population': 10175214},\n",
       " 'Switzerland': {'wins': 1, 'population': 8513227},\n",
       " 'Tunisia': {'wins': 1, 'population': 11565204},\n",
       " 'Uruguay': {'wins': 4, 'population': 3449299}}"
      ]
     },
     "execution_count": 26,
     "metadata": {},
     "output_type": "execute_result"
    }
   ],
   "source": [
    "combined_data"
   ]
  },
  {
   "cell_type": "markdown",
   "id": "c86ccac4",
   "metadata": {},
   "source": [
    "### Analytical of Population"
   ]
  },
  {
   "cell_type": "markdown",
   "id": "42c41379",
   "metadata": {},
   "source": [
    "Statistical Analysis of Population"
   ]
  },
  {
   "cell_type": "code",
   "execution_count": 27,
   "id": "caf3c8fa",
   "metadata": {},
   "outputs": [
    {
     "name": "stdout",
     "output_type": "stream",
     "text": [
      "Mean of population:  51687460.84375\n",
      "Median population:  34864542.5\n",
      "Standard deviation of population: 55195121.60871871\n"
     ]
    }
   ],
   "source": [
    "populations = [val[\"population\"] for val in combined_data.values()]\n",
    "\n",
    "print(\"Mean of population: \", np.mean(populations))\n",
    "print(\"Median population: \", np.median(populations))\n",
    "print(\"Standard deviation of population:\", np.std(populations))"
   ]
  },
  {
   "cell_type": "code",
   "execution_count": 28,
   "id": "be349f1a",
   "metadata": {},
   "outputs": [
    {
     "data": {
      "image/png": "[encoded data removed]",
      "text/plain": [
       "<Figure size 1200x700 with 2 Axes>"
      ]
     },
     "metadata": {},
     "output_type": "display_data"
    }
   ],
   "source": [
    "fig, (ax1, ax2) = plt.subplots(ncols = 2, figsize = (12,7))\n",
    "fig.set_tight_layout(True)\n",
    "\n",
    "ax1.hist(x = populations, color = \"blue\")\n",
    "ax1.set_xlabel(\"2018 Population\")\n",
    "ax1.set_ylabel(\"Frequency\")\n",
    "ax1.set_title(\"Distribution\")\n",
    "\n",
    "ax2.barh(teams[::-1], populations[::-1], color = \"blue\")\n",
    "ax2.set_xlabel(\"2018 Population\")\n",
    "ax2.set_title(\"Population by Country\");"
   ]
  },
  {
   "cell_type": "markdown",
   "id": "5f9a8f9f",
   "metadata": {},
   "source": [
    "# 4. Analysis of Population vs Performance"
   ]
  },
  {
   "cell_type": "code",
   "execution_count": 29,
   "id": "01d5cf8c",
   "metadata": {},
   "outputs": [
    {
     "data": {
      "text/plain": [
       "0.07592816849178588"
      ]
     },
     "execution_count": 29,
     "metadata": {},
     "output_type": "execute_result"
    }
   ],
   "source": [
    "np.corrcoef(wins, populations)[0][1]\n",
    "\n",
    "\n",
    "# The correlation is a positive. However, it is a weak correlation it is very close to 0. \n",
    "# Therefore, the population of each country does not necessarily impact the performance of the player or \n",
    "# chance of winning the cup"
   ]
  },
  {
   "cell_type": "markdown",
   "id": "012c9a38",
   "metadata": {},
   "source": [
    "In the cell below, interpret this number. What direction is this correlation? Is it strong or weak?"
   ]
  },
  {
   "cell_type": "code",
   "execution_count": 30,
   "id": "402f6d18",
   "metadata": {},
   "outputs": [],
   "source": [
    "'''\n",
    "The correlation is a positive. However, it is a weak correlation it is very close to 0. \n",
    "Therefore, the population of each country does not necessarily impact the performance of the player or \n",
    "chance of winning the cup. In other words. there is NO relationship between the population and the number of\n",
    "wins.\n",
    "''';"
   ]
  },
  {
   "cell_type": "markdown",
   "id": "41de032c",
   "metadata": {},
   "source": [
    "### Data Visualisation"
   ]
  },
  {
   "cell_type": "code",
   "execution_count": 31,
   "id": "1b9af6b3",
   "metadata": {
    "scrolled": false
   },
   "outputs": [
    {
     "data": {
      "image/png": "[encoded data removed]",
      "text/plain": [
       "<Figure size 800x500 with 1 Axes>"
      ]
     },
     "metadata": {},
     "output_type": "display_data"
    }
   ],
   "source": [
    "# Set up figure\n",
    "fig, ax = plt.subplots(figsize = (8,5))\n",
    "\n",
    "ax.scatter(\n",
    "    x = populations,\n",
    "    y = wins,\n",
    "    color = \"gray\", alpha = 0.5, s = 100\n",
    ")\n",
    "\n",
    "ax.set_xlabel(\"2018 Population\")\n",
    "ax.set_ylabel(\"2018 World Cup Wins\")\n",
    "ax.set_title(\"Population vs World Up Wins\")\n",
    "\n",
    "highlighted_points = {\n",
    "    \"Belgium\" : 2,\n",
    "    \"Brazil\" : 3,\n",
    "    \"France\" : 10,\n",
    "    \"Nigeria\" : 17\n",
    "    \n",
    "}\n",
    "\n",
    "for country, index in highlighted_points.items():\n",
    "    # Get x and y of data input\n",
    "    x = populations[index]\n",
    "    y = wins[index]\n",
    "    # Move each point slightly down and to the left\n",
    "    # (Numbers were chosen by manually tweaking(\n",
    "    xtext = x - (1.25e6 * len(country))\n",
    "    ytext = y - 0.5\n",
    "    # Annotate relevant arguments\n",
    "    ax.annotate(\n",
    "        text = country,\n",
    "        xy = (x,y),\n",
    "        xytext = (xtext, ytext),\n",
    "    )"
   ]
  },
  {
   "cell_type": "markdown",
   "id": "b6df33f9",
   "metadata": {},
   "source": [
    "Data Visualization Interpretation\n",
    "\n",
    "\n",
    "Interpret this plot in the cell below. Does this align with the findings from the statistical measure (correlation), as well as the map shown at the beginning of this lab (showing the best results by country)?"
   ]
  },
  {
   "cell_type": "code",
   "execution_count": 32,
   "id": "928297f7",
   "metadata": {},
   "outputs": [],
   "source": [
    "\"\"\"\n",
    "From seeing the graph above, it is a very weak correlation and there is no relationship \n",
    "between the country population and winning the cup. For example, Brazil and Nigeria have\n",
    "very big number of their country population but they won a very few numbers of game in \n",
    "the cup whereas country with fewer numbers of populations like France and Belgium have won 6\n",
    "games in the cup. Therefore, countries with higher population will unlikely to win on the future\n",
    "world cup.\n",
    "\"\"\";"
   ]
  },
  {
   "cell_type": "markdown",
   "id": "8e6e91e3",
   "metadata": {},
   "source": [
    "**Final Analysis**\n",
    "\n",
    "* What is the relationship between the population of a country and their performance in the 2018 FIFA World Cup?\n",
    "\n",
    "Overall, we found a very weakly positive relationship between the population of a country and their performance in the 2018 FIFA World Cup, as demonstrated by both the correlation between populations and wins, and the scatter plot.\n",
    "\n",
    "In the cell below, write down your thoughts on these questions:\n",
    "\n",
    "* What are your thoughts on why you may see this result?\n",
    "* What would you research next?"
   ]
  },
  {
   "cell_type": "code",
   "execution_count": 33,
   "id": "585fa1a6",
   "metadata": {},
   "outputs": [],
   "source": [
    "\"\"\"\n",
    "The results imply that there is no relationship between country population and number of wins in the world cup 2018.\n",
    "A lot of people assumed that countries with higher population have the chance of winning the cup which is a wrong assumption. \n",
    "Therefore, countries like Nigeria and Brazil with higher populations are highly unlikely to win the\n",
    "future world cups.\n",
    "\n",
    "My next research would be find the relationship between number of wins and the player attributes by correlating\n",
    "* between age and overall rating\n",
    "* between age and potential\n",
    "* between wins and average dribbling speed\n",
    "\"\"\";"
   ]
  }
 ],
 "metadata": {
  "kernelspec": {
   "display_name": "Python 3 (ipykernel)",
   "language": "python",
   "name": "python3"
  },
  "language_info": {
   "codemirror_mode": {
    "name": "ipython",
    "version": 3
   },
   "file_extension": ".py",
   "mimetype": "text/x-python",
   "name": "python",
   "nbconvert_exporter": "python",
   "pygments_lexer": "ipython3",
   "version": "3.10.9"
  }
 },
 "nbformat": 4,
 "nbformat_minor": 5
}
